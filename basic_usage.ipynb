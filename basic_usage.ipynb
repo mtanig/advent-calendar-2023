{
 "cells": [
  {
   "cell_type": "markdown",
   "id": "0724c9e4-8685-4e03-acf4-ab718633b5bd",
   "metadata": {},
   "source": [
    "# 基本的な使い方"
   ]
  },
  {
   "cell_type": "markdown",
   "id": "f5898e6a-fef7-43cb-995a-bf78b8fab97d",
   "metadata": {},
   "source": [
    "## 使用するデータの準備\n",
    "[make_dataset.ipynb](./make_dataset.ipynb)で作ったlivedoorニュースのデータセットをロードしタイトルを抽出します。"
   ]
  },
  {
   "cell_type": "code",
   "execution_count": 2,
   "id": "f3604494-6d87-4eb5-a3dc-6dcbe03def98",
   "metadata": {
    "execution": {
     "iopub.execute_input": "2023-11-17T01:28:02.354227Z",
     "iopub.status.busy": "2023-11-17T01:28:02.353580Z",
     "iopub.status.idle": "2023-11-17T01:28:03.457205Z",
     "shell.execute_reply": "2023-11-17T01:28:03.456195Z",
     "shell.execute_reply.started": "2023-11-17T01:28:02.354194Z"
    },
    "tags": []
   },
   "outputs": [],
   "source": [
    "import pandas as pd\n",
    "\n",
    "df = pd.read_csv(\"./livedoor-news.csv\")"
   ]
  },
  {
   "cell_type": "markdown",
   "id": "2ef26ae7-a838-495e-80a0-9d8703dd1fa7",
   "metadata": {},
   "source": [
    "## タイトル文章のベクトル化\n",
    "文章をベクトル化する方法はいくつかありますが、有料のOpenAI Embeddings APIを使う方法と、無料のsentence-transformersを使う方法を紹介します。"
   ]
  },
  {
   "cell_type": "markdown",
   "id": "d6391e0e-48ea-4340-8524-f544eebc03a4",
   "metadata": {
    "execution": {
     "iopub.execute_input": "2023-11-13T20:42:08.160426Z",
     "iopub.status.busy": "2023-11-13T20:42:08.159708Z",
     "iopub.status.idle": "2023-11-13T20:42:08.163384Z",
     "shell.execute_reply": "2023-11-13T20:42:08.162734Z",
     "shell.execute_reply.started": "2023-11-13T20:42:08.160397Z"
    },
    "tags": []
   },
   "source": [
    "### OpenAI Embeddings APIを使う場合\n",
    "OpenAIのアカウントを作成して[こちら](https://platform.openai.com/api-keys)でapi-keyを発行し以下の行の右辺のsk-XXXを書き換えてください。前後にダブルクオートは入れないでください。\n",
    "今回の8000弱の短い文章のリクエストだとトークン数は30万弱で費用は$0.03程度でした。時間は20分以上かかりました。"
   ]
  },
  {
   "cell_type": "code",
   "execution_count": null,
   "id": "527ac953-cdc1-4204-8cea-2baf51d75b70",
   "metadata": {
    "tags": []
   },
   "outputs": [],
   "source": [
    "%env OPENAI_API_KEY=sk-XXX"
   ]
  },
  {
   "cell_type": "code",
   "execution_count": 5,
   "id": "be1dd9e4-48ac-486f-917b-b1557cf2ae4e",
   "metadata": {
    "tags": []
   },
   "outputs": [],
   "source": [
    "import os\n",
    "\n",
    "import openai\n",
    "\n",
    "openai.api_key = os.environ[\"OPENAI_API_KEY\"]\n",
    "client = openai.OpenAI()\n",
    "\n",
    "\n",
    "def get_embedding(text, model=\"text-embedding-ada-002\"):\n",
    "    text = text.replace(\"\\n\", \" \")\n",
    "    return client.embeddings.create(input=[text], model=model).data[0].embedding"
   ]
  },
  {
   "cell_type": "code",
   "execution_count": 6,
   "id": "6fc87bee-6ae4-45dd-b403-f9e25a29d01a",
   "metadata": {},
   "outputs": [
    {
     "data": {
      "text/plain": [
       "1536"
      ]
     },
     "execution_count": 6,
     "metadata": {},
     "output_type": "execute_result"
    }
   ],
   "source": [
    "# 次元数\n",
    "model = \"text-embedding-ada-002\"\n",
    "len(get_embedding(\"携帯の使い方が難しい\", model))"
   ]
  },
  {
   "cell_type": "code",
   "execution_count": 11,
   "id": "041a41d0-e4e0-46fe-a3ae-b51d5d521384",
   "metadata": {},
   "outputs": [],
   "source": [
    "from tqdm.notebook import tqdm\n",
    "\n",
    "tqdm.pandas()\n",
    "\n",
    "df[\"title_embedding\"] = df[\"title\"].progress_apply(lambda x: get_embedding(x, model))"
   ]
  },
  {
   "cell_type": "code",
   "execution_count": null,
   "id": "9a89ef63-658d-4b90-be86-14bf66073017",
   "metadata": {},
   "outputs": [],
   "source": [
    "# fileから読み込んだあともembeddingが復元できるよう加工して保存しています\n",
    "w_df = df.copy()\n",
    "w_df[\"title_embedding\"] = w_df[\"title_embedding\"].apply(list)\n",
    "w_df.to_csv(\"./livedoor-news-with-title-embedding-openai.csv\", index=False)"
   ]
  },
  {
   "cell_type": "markdown",
   "id": "09f49248-7a77-4cef-ba78-3afa0f0503ff",
   "metadata": {},
   "source": [
    "### sentence-transformersを使う場合\n",
    "この例では多言語対応モデルを使います。"
   ]
  },
  {
   "cell_type": "code",
   "execution_count": 8,
   "id": "3ab8e444-c4ef-4d2d-9ba1-825d45f7a7f8",
   "metadata": {
    "execution": {
     "iopub.execute_input": "2023-11-17T01:28:07.934114Z",
     "iopub.status.busy": "2023-11-17T01:28:07.933461Z",
     "iopub.status.idle": "2023-11-17T01:28:11.727333Z",
     "shell.execute_reply": "2023-11-17T01:28:11.726484Z",
     "shell.execute_reply.started": "2023-11-17T01:28:07.934082Z"
    },
    "tags": []
   },
   "outputs": [],
   "source": [
    "from sentence_transformers import SentenceTransformer\n",
    "\n",
    "# CPUを使用する場合\n",
    "model = SentenceTransformer(\"paraphrase-multilingual-mpnet-base-v2\")\n",
    "\n",
    "# GPUを使用する場合\n",
    "# model = SentenceTransformer('paraphrase-multilingual-mpnet-base-v2', device='cuda')"
   ]
  },
  {
   "cell_type": "code",
   "execution_count": 9,
   "id": "a72286c9-c9a5-4bf6-86ef-d16347b4a965",
   "metadata": {
    "execution": {
     "iopub.execute_input": "2023-11-17T01:28:11.729178Z",
     "iopub.status.busy": "2023-11-17T01:28:11.728830Z",
     "iopub.status.idle": "2023-11-17T01:28:11.732888Z",
     "shell.execute_reply": "2023-11-17T01:28:11.732225Z",
     "shell.execute_reply.started": "2023-11-17T01:28:11.729149Z"
    },
    "tags": []
   },
   "outputs": [],
   "source": [
    "def get_embedding(text, model):\n",
    "    return model.encode(text)"
   ]
  },
  {
   "cell_type": "code",
   "execution_count": 10,
   "id": "531e651c-bfe8-45ec-924f-7b2c19a3ad86",
   "metadata": {
    "execution": {
     "iopub.execute_input": "2023-11-17T01:28:18.824918Z",
     "iopub.status.busy": "2023-11-17T01:28:18.823723Z",
     "iopub.status.idle": "2023-11-17T01:28:19.125961Z",
     "shell.execute_reply": "2023-11-17T01:28:19.125075Z",
     "shell.execute_reply.started": "2023-11-17T01:28:18.824856Z"
    },
    "tags": []
   },
   "outputs": [
    {
     "data": {
      "text/plain": [
       "768"
      ]
     },
     "execution_count": 10,
     "metadata": {},
     "output_type": "execute_result"
    }
   ],
   "source": [
    "# 次元数\n",
    "len(get_embedding(\"携帯の使い方が難しい\", model))"
   ]
  },
  {
   "cell_type": "code",
   "execution_count": 11,
   "id": "80d074d9-6aba-4b0b-8eaf-b473c49a8677",
   "metadata": {
    "execution": {
     "iopub.execute_input": "2023-11-17T01:28:25.959932Z",
     "iopub.status.busy": "2023-11-17T01:28:25.959404Z",
     "iopub.status.idle": "2023-11-17T01:30:10.335818Z",
     "shell.execute_reply": "2023-11-17T01:30:10.334508Z",
     "shell.execute_reply.started": "2023-11-17T01:28:25.959897Z"
    },
    "tags": []
   },
   "outputs": [],
   "source": [
    "df[\"title_embedding\"] = df[\"title\"].apply(lambda x: get_embedding(x, model))"
   ]
  },
  {
   "cell_type": "code",
   "execution_count": 12,
   "id": "a6bf9ba5-1327-42b6-b4ae-4daef208cd77",
   "metadata": {
    "execution": {
     "iopub.execute_input": "2023-11-17T01:30:57.150213Z",
     "iopub.status.busy": "2023-11-17T01:30:57.149217Z",
     "iopub.status.idle": "2023-11-17T01:31:03.568074Z",
     "shell.execute_reply": "2023-11-17T01:31:03.567116Z",
     "shell.execute_reply.started": "2023-11-17T01:30:57.150173Z"
    },
    "tags": []
   },
   "outputs": [],
   "source": [
    "# fileから読み込んだあともembeddingが復元できるよう加工して保存しています\n",
    "w_df = df.copy()\n",
    "w_df[\"title_embedding\"] = w_df[\"title_embedding\"].apply(list)\n",
    "w_df.to_csv(\"./livedoor-news-with-title-embedding-st.csv\", index=False)"
   ]
  },
  {
   "cell_type": "markdown",
   "id": "4a37a7f2-c122-44ae-9d61-0d75787ab883",
   "metadata": {
    "tags": []
   },
   "source": [
    "## Valdクラスタの準備\n",
    "こちらの[記事](https://zenn.dev/vald/articles/01-get-started-with-chive)を参考にValdクラスタを構築してください。\n",
    "\n",
    "values.yaml の agent.ngt.dimension には、実際に挿入するベクトルの次元数(OpenAI Embeddings APIを使う場合は1536、\n",
    "sentence-transformersを使う場合は768)を設定してください。agent.ngt.distance_type には l2 を設定してください。"
   ]
  },
  {
   "cell_type": "code",
   "execution_count": 31,
   "id": "050b2144",
   "metadata": {},
   "outputs": [],
   "source": [
    "import numpy as np\n",
    "import pandas as pd\n",
    "\n",
    "df = pd.read_csv(\"./livedoor-news-with-title-embedding-openai.csv\")\n",
    "# df = pd.read_csv('./livedoor-news-with-title-embedding-st.csv')"
   ]
  },
  {
   "cell_type": "code",
   "execution_count": 32,
   "id": "12a19e23",
   "metadata": {},
   "outputs": [],
   "source": [
    "df[\"title_embedding\"] = df[\"title_embedding\"].apply(eval).apply(np.array)"
   ]
  },
  {
   "cell_type": "code",
   "execution_count": 78,
   "id": "1b5c3ef3-8014-400c-99cc-f59545f3e38e",
   "metadata": {
    "execution": {
     "iopub.execute_input": "2023-11-17T01:34:36.096105Z",
     "iopub.status.busy": "2023-11-17T01:34:36.095537Z",
     "iopub.status.idle": "2023-11-17T01:34:36.101189Z",
     "shell.execute_reply": "2023-11-17T01:34:36.100116Z",
     "shell.execute_reply.started": "2023-11-17T01:34:36.096022Z"
    },
    "tags": []
   },
   "outputs": [],
   "source": [
    "import grpc\n",
    "import numpy as np\n",
    "from vald.v1.payload import payload_pb2\n",
    "from vald.v1.vald import search_pb2_grpc, upsert_pb2_grpc"
   ]
  },
  {
   "cell_type": "code",
   "execution_count": 79,
   "id": "8d26e72a-6d96-406b-8c1e-df992429bc32",
   "metadata": {
    "execution": {
     "iopub.execute_input": "2023-11-17T01:34:36.314668Z",
     "iopub.status.busy": "2023-11-17T01:34:36.314061Z",
     "iopub.status.idle": "2023-11-17T01:34:37.653113Z",
     "shell.execute_reply": "2023-11-17T01:34:37.652260Z",
     "shell.execute_reply.started": "2023-11-17T01:34:36.314636Z"
    },
    "tags": []
   },
   "outputs": [],
   "source": [
    "## 接続先Host名(Host:Port)\n",
    "host = \"localhost:80\"\n",
    "\n",
    "## 次元数\n",
    "dimension = 1536  # OpenAI Embeddings APIを使う場合\n",
    "# dimension = 768  # sentence-transformersを使う場合"
   ]
  },
  {
   "cell_type": "code",
   "execution_count": 80,
   "id": "24cac492-cc71-4a97-b56f-8b5563d950f9",
   "metadata": {
    "execution": {
     "iopub.execute_input": "2023-11-17T01:34:58.664064Z",
     "iopub.status.busy": "2023-11-17T01:34:58.663356Z",
     "iopub.status.idle": "2023-11-17T01:34:58.670113Z",
     "shell.execute_reply": "2023-11-17T01:34:58.669397Z",
     "shell.execute_reply.started": "2023-11-17T01:34:58.664028Z"
    },
    "tags": []
   },
   "outputs": [],
   "source": [
    "channel = grpc.insecure_channel(host)"
   ]
  },
  {
   "cell_type": "markdown",
   "id": "a55a9c07-b8a2-4413-b930-fd562e665fcf",
   "metadata": {},
   "source": [
    "ベクトルの挿入ができるか試してみます。"
   ]
  },
  {
   "cell_type": "code",
   "execution_count": 81,
   "id": "9072e35d-655f-4c3a-830a-a35cf77e840f",
   "metadata": {
    "execution": {
     "iopub.execute_input": "2023-11-17T01:34:59.349630Z",
     "iopub.status.busy": "2023-11-17T01:34:59.349253Z",
     "iopub.status.idle": "2023-11-17T01:34:59.353890Z",
     "shell.execute_reply": "2023-11-17T01:34:59.352934Z",
     "shell.execute_reply.started": "2023-11-17T01:34:59.349599Z"
    },
    "tags": []
   },
   "outputs": [],
   "source": [
    "usstub = upsert_pb2_grpc.UpsertStub(channel)"
   ]
  },
  {
   "cell_type": "code",
   "execution_count": 82,
   "id": "797d3030-980b-48ef-8aa1-e4f0faf65280",
   "metadata": {
    "execution": {
     "iopub.execute_input": "2023-11-17T01:34:59.709064Z",
     "iopub.status.busy": "2023-11-17T01:34:59.708433Z",
     "iopub.status.idle": "2023-11-17T01:35:00.406087Z",
     "shell.execute_reply": "2023-11-17T01:35:00.405208Z",
     "shell.execute_reply.started": "2023-11-17T01:34:59.709033Z"
    },
    "tags": []
   },
   "outputs": [
    {
     "data": {
      "text/plain": [
       "name: \"vald-agent-ngt-1\"\n",
       "uuid: \"0\"\n",
       "ips: \"127.0.0.1\""
      ]
     },
     "execution_count": 82,
     "metadata": {},
     "output_type": "execute_result"
    }
   ],
   "source": [
    "vec = payload_pb2.Object.Vector(id=\"0\", vector=df[\"title_embedding\"][0])\n",
    "uscfg = payload_pb2.Upsert.Config(skip_strict_exist_check=True)\n",
    "usstub.Upsert(payload_pb2.Upsert.Request(vector=vec, config=uscfg))"
   ]
  },
  {
   "cell_type": "markdown",
   "id": "d9610044-e76b-439d-af0f-2df05669c934",
   "metadata": {
    "execution": {
     "iopub.execute_input": "2023-11-13T21:17:21.846539Z",
     "iopub.status.busy": "2023-11-13T21:17:21.846232Z",
     "iopub.status.idle": "2023-11-13T21:17:21.850758Z",
     "shell.execute_reply": "2023-11-13T21:17:21.849946Z",
     "shell.execute_reply.started": "2023-11-13T21:17:21.846513Z"
    },
    "tags": []
   },
   "source": [
    "挿入したベクトルが検索できるか試してみます。データ挿入後、index作成が終わらないと検索結果に反映されないので数分待って実行してください。"
   ]
  },
  {
   "cell_type": "code",
   "execution_count": 88,
   "id": "10c447a3-0c3e-427b-b848-e095f66e2f7e",
   "metadata": {
    "execution": {
     "iopub.execute_input": "2023-11-17T01:35:02.873335Z",
     "iopub.status.busy": "2023-11-17T01:35:02.871640Z",
     "iopub.status.idle": "2023-11-17T01:35:02.878831Z",
     "shell.execute_reply": "2023-11-17T01:35:02.877900Z",
     "shell.execute_reply.started": "2023-11-17T01:35:02.873275Z"
    },
    "tags": []
   },
   "outputs": [],
   "source": [
    "sstub = search_pb2_grpc.SearchStub(channel)"
   ]
  },
  {
   "cell_type": "code",
   "execution_count": 91,
   "id": "fe907d28-1d83-47ba-b1d7-cd66b373e3ab",
   "metadata": {
    "execution": {
     "iopub.execute_input": "2023-11-17T01:36:38.363943Z",
     "iopub.status.busy": "2023-11-17T01:36:38.363075Z",
     "iopub.status.idle": "2023-11-17T01:36:38.477111Z",
     "shell.execute_reply": "2023-11-17T01:36:38.476389Z",
     "shell.execute_reply.started": "2023-11-17T01:36:38.363897Z"
    },
    "tags": []
   },
   "outputs": [
    {
     "data": {
      "text/plain": [
       "results {\n",
       "  id: \"0\"\n",
       "  distance: 1.08456945\n",
       "}"
      ]
     },
     "execution_count": 91,
     "metadata": {},
     "output_type": "execute_result"
    }
   ],
   "source": [
    "svec = np.array([0.01] * dimension, dtype=\"float32\")  # クエリ用のテストベクトル\n",
    "scfg = payload_pb2.Search.Config(num=10, radius=-1.0, epsilon=0.01, timeout=3000000000)\n",
    "sstub.Search(payload_pb2.Search.Request(vector=svec, config=scfg))"
   ]
  },
  {
   "cell_type": "markdown",
   "id": "7cf2e1a4-f957-46fb-90e3-824fe5be73ad",
   "metadata": {},
   "source": [
    "## ニュースの全タイトルをValdに挿入\n",
    "挿入完了後もindex作成が終わるまでは検索結果に反映されないのでさらに数分待ってから検索してください。"
   ]
  },
  {
   "cell_type": "code",
   "execution_count": null,
   "id": "47d1cb54",
   "metadata": {},
   "outputs": [],
   "source": [
    "from tqdm.notebook import tqdm\n",
    "\n",
    "for row in tqdm(df.itertuples(), total=len(df)):\n",
    "    vec = payload_pb2.Object.Vector(id=str(row.Index), vector=row.title_embedding)\n",
    "    uscfg = payload_pb2.Upsert.Config(skip_strict_exist_check=True)\n",
    "    usstub.Upsert(payload_pb2.Upsert.Request(vector=vec, config=uscfg))"
   ]
  },
  {
   "cell_type": "markdown",
   "id": "80655fca-7d2e-4181-83cb-111e9c19c3f4",
   "metadata": {},
   "source": [
    "## 任意のクエリに類似したニュースタイトルを検索"
   ]
  },
  {
   "cell_type": "code",
   "execution_count": 93,
   "id": "68f413f7-79f8-4736-84ec-fd32f5169200",
   "metadata": {
    "execution": {
     "iopub.execute_input": "2023-11-17T01:39:29.862172Z",
     "iopub.status.busy": "2023-11-17T01:39:29.861568Z",
     "iopub.status.idle": "2023-11-17T01:39:29.867611Z",
     "shell.execute_reply": "2023-11-17T01:39:29.866873Z",
     "shell.execute_reply.started": "2023-11-17T01:39:29.862129Z"
    },
    "tags": []
   },
   "outputs": [],
   "source": [
    "def get_search_response(text, model, k):\n",
    "    qvec = get_embedding(text, model)\n",
    "    scfg = payload_pb2.Search.Config(\n",
    "        num=k, radius=-1.0, epsilon=0.01, timeout=3000000000\n",
    "    )\n",
    "    return sstub.Search(payload_pb2.Search.Request(vector=qvec, config=scfg))"
   ]
  },
  {
   "cell_type": "code",
   "execution_count": 94,
   "id": "46a07248-9ef1-4f46-b9c2-47b3513455b5",
   "metadata": {
    "execution": {
     "iopub.execute_input": "2023-11-17T01:39:34.958680Z",
     "iopub.status.busy": "2023-11-17T01:39:34.958191Z",
     "iopub.status.idle": "2023-11-17T01:39:34.963435Z",
     "shell.execute_reply": "2023-11-17T01:39:34.962706Z",
     "shell.execute_reply.started": "2023-11-17T01:39:34.958646Z"
    },
    "tags": []
   },
   "outputs": [],
   "source": [
    "def display_results_top_k(text, model, k):\n",
    "    response = get_search_response(text, model, k=k)\n",
    "    for result in response.results:\n",
    "        rtitle = df[\"title\"][int(result.id)]\n",
    "        rdistance = result.distance\n",
    "        print(f\"title: {rtitle}, distance: {rdistance}\")"
   ]
  },
  {
   "cell_type": "code",
   "execution_count": 100,
   "id": "5bd99ef3-bea2-456c-9601-42973294117e",
   "metadata": {
    "execution": {
     "iopub.execute_input": "2023-11-17T01:40:00.545552Z",
     "iopub.status.busy": "2023-11-17T01:40:00.544894Z",
     "iopub.status.idle": "2023-11-17T01:40:00.676140Z",
     "shell.execute_reply": "2023-11-17T01:40:00.675257Z",
     "shell.execute_reply.started": "2023-11-17T01:40:00.545520Z"
    },
    "tags": []
   },
   "outputs": [
    {
     "name": "stdout",
     "output_type": "stream",
     "text": [
      "title: 携帯の英字入力で「たかはし」と打つと「GAME」になる, distance: 0.5004885196685791\n",
      "title: やっぱり使いにくい！スマホからガラケーに戻す人が多いらしい!?【話題】, distance: 0.5063361525535583\n",
      "title: スマートフォンを使う上での最低限のマナーとは, distance: 0.5123698711395264\n"
     ]
    }
   ],
   "source": [
    "text = \"携帯の使い方が難しい\"\n",
    "display_results_top_k(text, model, k=3)"
   ]
  },
  {
   "cell_type": "code",
   "execution_count": 101,
   "id": "22c3fe00-7b7a-4aea-96de-ba70041a16dc",
   "metadata": {
    "execution": {
     "iopub.execute_input": "2023-11-17T01:40:04.983434Z",
     "iopub.status.busy": "2023-11-17T01:40:04.982680Z",
     "iopub.status.idle": "2023-11-17T01:40:05.123549Z",
     "shell.execute_reply": "2023-11-17T01:40:05.122563Z",
     "shell.execute_reply.started": "2023-11-17T01:40:04.983363Z"
    },
    "tags": []
   },
   "outputs": [
    {
     "name": "stdout",
     "output_type": "stream",
     "text": [
      "title: やっぱり使いにくい！スマホからガラケーに戻す人が多いらしい!?【話題】, distance: 0.569595992565155\n",
      "title: ドコモ障害の原因はスマホだった？普及が進むスマホに課題か【話題】, distance: 0.6260550618171692\n",
      "title: 本当に電話もメールもらくらく操作なの？「らくらくスマートフォンF-12D」の電話機能をチェック【レビュー】, distance: 0.6301419138908386\n"
     ]
    }
   ],
   "source": [
    "# 英語でのクエリも行えます\n",
    "text = \"It's difficult to use cell phone.\"\n",
    "display_results_top_k(text, model, k=3)"
   ]
  },
  {
   "cell_type": "code",
   "execution_count": 102,
   "id": "48df13f7-2dfe-4e09-9b8f-c935af447114",
   "metadata": {
    "execution": {
     "iopub.execute_input": "2023-11-17T01:40:27.025229Z",
     "iopub.status.busy": "2023-11-17T01:40:27.024406Z",
     "iopub.status.idle": "2023-11-17T01:40:27.160686Z",
     "shell.execute_reply": "2023-11-17T01:40:27.159735Z",
     "shell.execute_reply.started": "2023-11-17T01:40:27.025180Z"
    },
    "tags": []
   },
   "outputs": [
    {
     "name": "stdout",
     "output_type": "stream",
     "text": [
      "title: 【SportsWatch】2010年プロ野球界のキーマンは？, distance: 0.5248281359672546\n",
      "title: 【SportsWatch】日本代表再建のキーマンは？, distance: 0.5396592020988464\n",
      "title: 五輪サッカー日韓戦において、韓国が注目する“ある選手”とは？, distance: 0.5547349452972412\n"
     ]
    }
   ],
   "source": [
    "text = \"今年のホームラン王は誰か\"\n",
    "display_results_top_k(text, model, k=3)"
   ]
  },
  {
   "cell_type": "markdown",
   "id": "69d5fc32-8fb0-4f20-a2cc-a208eae5db19",
   "metadata": {
    "execution": {
     "iopub.execute_input": "2023-11-14T01:43:35.668629Z",
     "iopub.status.busy": "2023-11-14T01:43:35.667887Z",
     "iopub.status.idle": "2023-11-14T01:43:35.671731Z",
     "shell.execute_reply": "2023-11-14T01:43:35.671066Z",
     "shell.execute_reply.started": "2023-11-14T01:43:35.668601Z"
    },
    "tags": []
   },
   "source": [
    "## ベクトル検索エンジンを使わない場合\n",
    "アプリケーション側で計算することでもベクトルの距離計算を行うことができます。ですがValdを使えばデータ量が増えても高速な検索を行うことができます。\n",
    "\n",
    "Valdは近似近傍検索なので精度面が心配になるかもしれません。そこで正確な計算結果とどれくらい差があるのかnumpyを使った例を使って比較してみます。\n",
    "\n",
    "Valdのパラメータで精度と速度のトレードオフを調整でき、今回はagent.ngt.creation_edge_size=20、agent.ngt.search_edge_size=40を設定しています。"
   ]
  },
  {
   "cell_type": "code",
   "execution_count": 103,
   "id": "7a1ebc76-53c0-4761-9b76-379b19348d98",
   "metadata": {
    "execution": {
     "iopub.execute_input": "2023-11-17T01:40:42.594643Z",
     "iopub.status.busy": "2023-11-17T01:40:42.593723Z",
     "iopub.status.idle": "2023-11-17T01:40:42.601634Z",
     "shell.execute_reply": "2023-11-17T01:40:42.600706Z",
     "shell.execute_reply.started": "2023-11-17T01:40:42.594589Z"
    },
    "tags": []
   },
   "outputs": [],
   "source": [
    "def display_top_k_with_numpy(text, df, k):\n",
    "    insert_features = np.array([x for x in df[\"title_embedding\"].values])\n",
    "    query_feature = get_embedding(text=text, model=model)\n",
    "    distances = np.linalg.norm(\n",
    "        query_feature - insert_features, axis=1\n",
    "    )  # distance_type=L2と等価\n",
    "    distance_indexes = np.argsort(distances)[:k]\n",
    "\n",
    "    for idx in distance_indexes:\n",
    "        print(f\"title: {df['title'][int(idx)]}, distance: {distances[int(idx)]}\")"
   ]
  },
  {
   "cell_type": "code",
   "execution_count": 104,
   "id": "7a9c1b58-f796-4268-9075-84c758795ef7",
   "metadata": {
    "execution": {
     "iopub.execute_input": "2023-11-17T01:40:45.849323Z",
     "iopub.status.busy": "2023-11-17T01:40:45.848299Z",
     "iopub.status.idle": "2023-11-17T01:40:45.960970Z",
     "shell.execute_reply": "2023-11-17T01:40:45.959955Z",
     "shell.execute_reply.started": "2023-11-17T01:40:45.849256Z"
    },
    "tags": []
   },
   "outputs": [
    {
     "name": "stdout",
     "output_type": "stream",
     "text": [
      "title: 携帯の英字入力で「たかはし」と打つと「GAME」になる, distance: 0.5004885569201721\n",
      "title: やっぱり使いにくい！スマホからガラケーに戻す人が多いらしい!?【話題】, distance: 0.5063361694492042\n",
      "title: スマートフォンを使う上での最低限のマナーとは, distance: 0.5123698822775186\n"
     ]
    }
   ],
   "source": [
    "text = \"携帯の使い方が難しい\"\n",
    "display_top_k_with_numpy(text, df, k=3)"
   ]
  },
  {
   "cell_type": "markdown",
   "id": "852d0bdf-56ca-408c-9eac-8ffc78e3031a",
   "metadata": {
    "execution": {
     "iopub.execute_input": "2023-11-14T02:45:58.430279Z",
     "iopub.status.busy": "2023-11-14T02:45:58.429780Z",
     "iopub.status.idle": "2023-11-14T02:45:58.436050Z",
     "shell.execute_reply": "2023-11-14T02:45:58.434838Z",
     "shell.execute_reply.started": "2023-11-14T02:45:58.430234Z"
    },
    "tags": []
   },
   "source": [
    "distanceを見るとValdを使った時の結果とほとんど同じになってることがわかるかと思います。"
   ]
  },
  {
   "cell_type": "markdown",
   "id": "bc29ddb6-0d30-4f4a-8b60-55d7dc3e6bd7",
   "metadata": {},
   "source": [
    "## 謝辞\n",
    "livedoorニュースの記事は以下ライセンスに基づき改変せず使用させていただきました。\n",
    "\n",
    "https://creativecommons.org/licenses/by-nd/2.1/jp/\n",
    "\n",
    "ニュース記事を公開いただきました、独女通信、家電チャンネル、MOVIE ENTER、エスマックス、トピックニュース、ITライフハック、livedoor HOMME、Peachy、Sports Watch様に感謝を申し上げます。"
   ]
  }
 ],
 "metadata": {
  "kernelspec": {
   "display_name": "Python 3 (ipykernel)",
   "language": "python",
   "name": "python3"
  },
  "language_info": {
   "codemirror_mode": {
    "name": "ipython",
    "version": 3
   },
   "file_extension": ".py",
   "mimetype": "text/x-python",
   "name": "python",
   "nbconvert_exporter": "python",
   "pygments_lexer": "ipython3",
   "version": "3.10.13"
  }
 },
 "nbformat": 4,
 "nbformat_minor": 5
}
