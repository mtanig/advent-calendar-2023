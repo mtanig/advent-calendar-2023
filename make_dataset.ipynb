{
 "cells": [
  {
   "cell_type": "markdown",
   "id": "5ffe1629-8523-4f5c-945e-311a407a1d5f",
   "metadata": {},
   "source": [
    "# Livedoorニュースコーパスのデータセット作成\n",
    "扱いやすいよう1つのファイルにまとめます"
   ]
  },
  {
   "cell_type": "code",
   "execution_count": null,
   "id": "a5690334-7297-4fc0-a1f9-622df2528f0c",
   "metadata": {
    "tags": []
   },
   "outputs": [],
   "source": [
    "!wget https://www.rondhuit.com/download/ldcc-20140209.tar.gz"
   ]
  },
  {
   "cell_type": "code",
   "execution_count": null,
   "id": "857c22db-e56d-46b3-bac8-2a35806f6abe",
   "metadata": {
    "tags": []
   },
   "outputs": [],
   "source": [
    "!tar -xvf ./ldcc-20140209.tar.gz"
   ]
  },
  {
   "cell_type": "code",
   "execution_count": null,
   "id": "3f6f2f56-9591-448b-a038-80846932b00a",
   "metadata": {
    "tags": []
   },
   "outputs": [],
   "source": [
    "import glob\n",
    "\n",
    "import pandas as pd"
   ]
  },
  {
   "cell_type": "code",
   "execution_count": null,
   "id": "e89e5aaa-1811-4503-9355-24629723587a",
   "metadata": {
    "tags": []
   },
   "outputs": [],
   "source": [
    "paths = glob.glob(\"./text/**/[!LICENSE]*.txt\")"
   ]
  },
  {
   "cell_type": "code",
   "execution_count": null,
   "id": "82b11f69-e59d-4605-9242-5c3de84feb0a",
   "metadata": {
    "tags": []
   },
   "outputs": [],
   "source": [
    "def clean_text(text):\n",
    "    return \"\".join(text.split())  # 改行や空白などを削除"
   ]
  },
  {
   "cell_type": "code",
   "execution_count": null,
   "id": "d7ae2a90-f520-4bf8-80b5-527d24f0dc86",
   "metadata": {
    "tags": []
   },
   "outputs": [],
   "source": [
    "def get_contents(path):\n",
    "    with open(path) as f:\n",
    "        lines = f.readlines()\n",
    "        lines = [clean_text(l) for l in lines]\n",
    "        lines = [l for l in lines if l != \"\"]\n",
    "        _, time, title, *body = lines\n",
    "        body = \"\".join(body)\n",
    "        return time, title, body"
   ]
  },
  {
   "cell_type": "code",
   "execution_count": null,
   "id": "e16822bf-04a9-48cf-b4ff-8669478f3d34",
   "metadata": {
    "tags": []
   },
   "outputs": [],
   "source": [
    "def get_category(path):\n",
    "    return path.split(\"/\")[-2]"
   ]
  },
  {
   "cell_type": "code",
   "execution_count": null,
   "id": "13a0df17-dfc5-4d2e-af80-b9ff0f7e863b",
   "metadata": {
    "tags": []
   },
   "outputs": [],
   "source": [
    "data = []\n",
    "for path in paths:\n",
    "    time, title, body = get_contents(path)\n",
    "    category = get_category(path)\n",
    "    data.append([category, time, title, body])\n",
    "\n",
    "df = pd.DataFrame(data, columns=[\"category\", \"time\", \"title\", \"body\"])"
   ]
  },
  {
   "cell_type": "code",
   "execution_count": null,
   "id": "5c4ad970-1ed7-4289-9711-8cffe14a175d",
   "metadata": {
    "tags": []
   },
   "outputs": [],
   "source": [
    "df.to_csv(\"./livedoor-news.csv\", index=False)"
   ]
  }
 ],
 "metadata": {
  "kernelspec": {
   "display_name": "Python 3 (ipykernel)",
   "language": "python",
   "name": "python3"
  },
  "language_info": {
   "codemirror_mode": {
    "name": "ipython",
    "version": 3
   },
   "file_extension": ".py",
   "mimetype": "text/x-python",
   "name": "python",
   "nbconvert_exporter": "python",
   "pygments_lexer": "ipython3",
   "version": "3.10.13"
  }
 },
 "nbformat": 4,
 "nbformat_minor": 5
}
