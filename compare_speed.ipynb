{
 "cells": [
  {
   "cell_type": "markdown",
   "id": "5b36fe0b-1064-474c-b54a-d3a9a745d6b4",
   "metadata": {},
   "source": [
    "# 検索速度の比較\n",
    "Valdを使った場合とアプリケーション側でベクトル距離計算をする場合とでデータ量を変え速度を比較してみます。"
   ]
  },
  {
   "cell_type": "markdown",
   "id": "ab44cd4d-b575-48af-a9bd-da529f35934c",
   "metadata": {},
   "source": [
    "## データの準備"
   ]
  },
  {
   "cell_type": "markdown",
   "id": "0b031665-30ba-48fc-ba67-cc5ed18db856",
   "metadata": {},
   "source": [
    "ユニーク処理後に1M程度のデータを日本語では見つけられなかったため、以下の英語wikipedia文章のデータセットを使います。メモリを大量に使い時間もかかるので、まずはスライス等で小さいデータにしてから試すことをお勧めします。\n",
    "\n",
    "https://huggingface.co/datasets/wikitext"
   ]
  },
  {
   "cell_type": "code",
   "execution_count": null,
   "id": "2ec51501-dd84-4fb1-9e34-51823be83549",
   "metadata": {},
   "outputs": [],
   "source": [
    "from datasets import load_dataset\n",
    "\n",
    "dataset = load_dataset(\"wikitext\", \"wikitext-103-raw-v1\", split=\"train\")"
   ]
  },
  {
   "cell_type": "code",
   "execution_count": 31,
   "id": "09e2584c-c286-4db6-a1a4-46eba40f7ef8",
   "metadata": {},
   "outputs": [],
   "source": [
    "df = pd.DataFrame(data=dataset[\"text\"], columns=[\"text\"])"
   ]
  },
  {
   "cell_type": "code",
   "execution_count": 32,
   "id": "9fcb534f-aa0c-4eac-99f8-e59804a219ef",
   "metadata": {},
   "outputs": [
    {
     "data": {
      "text/plain": [
       "1801350"
      ]
     },
     "execution_count": 32,
     "metadata": {},
     "output_type": "execute_result"
    }
   ],
   "source": [
    "len(df)"
   ]
  },
  {
   "cell_type": "code",
   "execution_count": 34,
   "id": "11f863e0-df26-4221-8bd8-6d42a95e249e",
   "metadata": {},
   "outputs": [],
   "source": [
    "# 重複を除去\n",
    "df = df.drop_duplicates(subset=\"text\", keep=\"first\", ignore_index=True)"
   ]
  },
  {
   "cell_type": "code",
   "execution_count": 38,
   "id": "e89b3129-a686-4fe5-a073-f7eae16d59b5",
   "metadata": {},
   "outputs": [
    {
     "data": {
      "text/plain": [
       "973414"
      ]
     },
     "execution_count": 38,
     "metadata": {},
     "output_type": "execute_result"
    }
   ],
   "source": [
    "len(df)"
   ]
  },
  {
   "cell_type": "code",
   "execution_count": 36,
   "id": "20574955-174c-4635-bdd9-e5d1a772d9b5",
   "metadata": {},
   "outputs": [],
   "source": [
    "df.to_csv(\"./wikitext-uniq.csv\", index=False, quoting=1)"
   ]
  },
  {
   "cell_type": "markdown",
   "id": "f8afafbf-7f03-4291-a70e-f814cbc25d99",
   "metadata": {},
   "source": [
    "## 文章のベクトル化\n",
    "高速化のため、ベクトル化にはOpenAI Embeddings APIではなくsentence-transformersを使います。"
   ]
  },
  {
   "cell_type": "code",
   "execution_count": 6,
   "id": "49f34531-2406-4c6e-a864-ebbad2849345",
   "metadata": {
    "execution": {
     "iopub.execute_input": "2023-11-16T21:28:23.649623Z",
     "iopub.status.busy": "2023-11-16T21:28:23.648838Z",
     "iopub.status.idle": "2023-11-16T21:28:30.147164Z",
     "shell.execute_reply": "2023-11-16T21:28:30.145819Z",
     "shell.execute_reply.started": "2023-11-16T21:28:23.649588Z"
    },
    "tags": []
   },
   "outputs": [],
   "source": [
    "import pandas as pd\n",
    "\n",
    "df = pd.read_csv(\"./wikitext-uniq.csv\")"
   ]
  },
  {
   "cell_type": "code",
   "execution_count": 7,
   "id": "8d554593-9978-4cc8-8462-24436918756e",
   "metadata": {
    "execution": {
     "iopub.execute_input": "2023-11-17T20:52:31.320752Z",
     "iopub.status.busy": "2023-11-17T20:52:31.320452Z",
     "iopub.status.idle": "2023-11-17T20:52:37.949720Z",
     "shell.execute_reply": "2023-11-17T20:52:37.948815Z",
     "shell.execute_reply.started": "2023-11-17T20:52:31.320724Z"
    },
    "tags": []
   },
   "outputs": [],
   "source": [
    "from sentence_transformers import SentenceTransformer\n",
    "\n",
    "# CPUを使用する場合\n",
    "# model = SentenceTransformer(\"paraphrase-multilingual-mpnet-base-v2\")\n",
    "\n",
    "# GPUを使用する場合\n",
    "model = SentenceTransformer('paraphrase-multilingual-mpnet-base-v2', device='cuda')"
   ]
  },
  {
   "cell_type": "code",
   "execution_count": 8,
   "id": "865790c6-c000-469b-a8c4-7e56c303bef0",
   "metadata": {
    "execution": {
     "iopub.execute_input": "2023-11-17T20:52:37.951568Z",
     "iopub.status.busy": "2023-11-17T20:52:37.951052Z",
     "iopub.status.idle": "2023-11-17T20:52:37.955030Z",
     "shell.execute_reply": "2023-11-17T20:52:37.954367Z",
     "shell.execute_reply.started": "2023-11-17T20:52:37.951541Z"
    },
    "tags": []
   },
   "outputs": [],
   "source": [
    "def get_embedding(text, model):\n",
    "    return model.encode(text)"
   ]
  },
  {
   "cell_type": "code",
   "execution_count": null,
   "id": "60241e31-e02e-4396-88a7-7f13a7ca3c93",
   "metadata": {
    "tags": []
   },
   "outputs": [],
   "source": [
    "from tqdm.notebook import tqdm\n",
    "\n",
    "tqdm.pandas()\n",
    "\n",
    "df[\"text_embedding\"] = df[\"text\"].progress_apply(lambda x: get_embedding(x, model))"
   ]
  },
  {
   "cell_type": "code",
   "execution_count": null,
   "id": "eda326a1-f12b-46b0-b1fa-120919d3e940",
   "metadata": {},
   "outputs": [],
   "source": [
    "# fileから読み込んだあともembeddingが復元できるよう加工して保存しています\n",
    "w_df = df.copy()\n",
    "w_df[\"title_embedding\"] = w_df[\"title_embedding\"].apply(list)\n",
    "w_df.to_csv(\"./wikitext-uniq-with-text-embedding.csv\", index=False)"
   ]
  },
  {
   "cell_type": "markdown",
   "id": "7cd2d494-064f-4cf4-b520-91909cb79c7a",
   "metadata": {},
   "source": [
    "## クエリ速度の比較"
   ]
  },
  {
   "cell_type": "code",
   "execution_count": 2,
   "id": "347c95bb-1378-45f3-99f9-a7e4452662b2",
   "metadata": {
    "execution": {
     "iopub.execute_input": "2023-11-17T20:30:55.684365Z",
     "iopub.status.busy": "2023-11-17T20:30:55.683932Z",
     "iopub.status.idle": "2023-11-17T20:32:15.221465Z",
     "shell.execute_reply": "2023-11-17T20:32:15.220639Z",
     "shell.execute_reply.started": "2023-11-17T20:30:55.684338Z"
    },
    "tags": []
   },
   "outputs": [],
   "source": [
    "import pandas as pd\n",
    "\n",
    "df = pd.read_csv(\"./wikitext-uniq-with-text-embedding.csv\")"
   ]
  },
  {
   "cell_type": "code",
   "execution_count": null,
   "id": "9bb60ad7-829d-4db4-8753-5b4b609148a6",
   "metadata": {
    "tags": []
   },
   "outputs": [],
   "source": [
    "import numpy as np\n",
    "from tqdm.notebook import tqdm\n",
    "\n",
    "tqdm.pandas()\n",
    "\n",
    "df[\"text_embedding\"] = (\n",
    "    df[\"text_embedding\"].progress_apply(eval).progress_apply(np.array)\n",
    ")"
   ]
  },
  {
   "cell_type": "markdown",
   "id": "6516d61a-2c7b-4037-a769-2e98072d3f02",
   "metadata": {},
   "source": [
    "### ベクトル検索エンジンを使わない場合"
   ]
  },
  {
   "cell_type": "code",
   "execution_count": 9,
   "id": "3ea75798-6d98-4cc3-9dcd-306cc956c9e6",
   "metadata": {
    "execution": {
     "iopub.execute_input": "2023-11-17T20:52:46.975543Z",
     "iopub.status.busy": "2023-11-17T20:52:46.975083Z",
     "iopub.status.idle": "2023-11-17T20:52:46.979515Z",
     "shell.execute_reply": "2023-11-17T20:52:46.978765Z",
     "shell.execute_reply.started": "2023-11-17T20:52:46.975516Z"
    },
    "tags": []
   },
   "outputs": [],
   "source": [
    "def get_insert_features(df):\n",
    "    insert_features = np.array([x for x in df[\"text_embedding\"].values])\n",
    "    return insert_features"
   ]
  },
  {
   "cell_type": "code",
   "execution_count": 10,
   "id": "1b829c7f-73af-4359-92d6-21e1b4313f1f",
   "metadata": {
    "execution": {
     "iopub.execute_input": "2023-11-17T20:52:47.308706Z",
     "iopub.status.busy": "2023-11-17T20:52:47.308099Z",
     "iopub.status.idle": "2023-11-17T20:52:47.312684Z",
     "shell.execute_reply": "2023-11-17T20:52:47.311983Z",
     "shell.execute_reply.started": "2023-11-17T20:52:47.308677Z"
    },
    "tags": []
   },
   "outputs": [],
   "source": [
    "def get_indexes_top_k_with_numpy(insert_features, query_feature, k):\n",
    "    distances = np.linalg.norm(\n",
    "        query_feature - insert_features, axis=1\n",
    "    )  # distance_type=L2と等価\n",
    "    distance_indexes = np.argsort(distances)[:k]\n",
    "\n",
    "    return distance_indexes"
   ]
  },
  {
   "cell_type": "code",
   "execution_count": 11,
   "id": "f9d3c188-a6cd-4fe9-8d55-42bb3ee21e02",
   "metadata": {
    "execution": {
     "iopub.execute_input": "2023-11-17T20:52:47.819562Z",
     "iopub.status.busy": "2023-11-17T20:52:47.818608Z",
     "iopub.status.idle": "2023-11-17T20:52:47.908819Z",
     "shell.execute_reply": "2023-11-17T20:52:47.907773Z",
     "shell.execute_reply.started": "2023-11-17T20:52:47.819533Z"
    },
    "tags": []
   },
   "outputs": [],
   "source": [
    "text = \"野原ひろしの住んでいる地域はどこですか\"\n",
    "query_feature = get_embedding(text=text, model=model)"
   ]
  },
  {
   "cell_type": "markdown",
   "id": "073b4697-4ec3-4798-8687-944515db6411",
   "metadata": {},
   "source": [
    "#### データ数1万"
   ]
  },
  {
   "cell_type": "code",
   "execution_count": 12,
   "id": "96f070cc-8514-4c13-839a-6526b5631611",
   "metadata": {
    "execution": {
     "iopub.execute_input": "2023-11-17T20:52:49.639449Z",
     "iopub.status.busy": "2023-11-17T20:52:49.639001Z",
     "iopub.status.idle": "2023-11-17T20:52:49.658261Z",
     "shell.execute_reply": "2023-11-17T20:52:49.657440Z",
     "shell.execute_reply.started": "2023-11-17T20:52:49.639419Z"
    },
    "tags": []
   },
   "outputs": [],
   "source": [
    "insert_features = get_insert_features(df[:10000])"
   ]
  },
  {
   "cell_type": "code",
   "execution_count": 13,
   "id": "06746294-95ac-41e4-b334-6716a9ca0e05",
   "metadata": {
    "execution": {
     "iopub.execute_input": "2023-11-17T20:52:49.838969Z",
     "iopub.status.busy": "2023-11-17T20:52:49.838329Z",
     "iopub.status.idle": "2023-11-17T20:52:49.863020Z",
     "shell.execute_reply": "2023-11-17T20:52:49.862243Z",
     "shell.execute_reply.started": "2023-11-17T20:52:49.838941Z"
    },
    "tags": []
   },
   "outputs": [
    {
     "name": "stdout",
     "output_type": "stream",
     "text": [
      "CPU times: user 21 ms, sys: 35 µs, total: 21 ms\n",
      "Wall time: 19.8 ms\n"
     ]
    }
   ],
   "source": [
    "%%time\n",
    "indexes = get_indexes_top_k_with_numpy(insert_features, query_feature, k=3)"
   ]
  },
  {
   "cell_type": "markdown",
   "id": "0274ffd0-5bc1-4347-9c1b-e5a6202f7300",
   "metadata": {},
   "source": [
    "#### データ数10万"
   ]
  },
  {
   "cell_type": "code",
   "execution_count": 14,
   "id": "b8a13b60-d5c5-488b-b817-90d536c73fe8",
   "metadata": {
    "execution": {
     "iopub.execute_input": "2023-11-17T20:52:52.526063Z",
     "iopub.status.busy": "2023-11-17T20:52:52.525371Z",
     "iopub.status.idle": "2023-11-17T20:52:52.653014Z",
     "shell.execute_reply": "2023-11-17T20:52:52.651974Z",
     "shell.execute_reply.started": "2023-11-17T20:52:52.526031Z"
    },
    "tags": []
   },
   "outputs": [],
   "source": [
    "insert_features = get_insert_features(df[:100000])"
   ]
  },
  {
   "cell_type": "code",
   "execution_count": 15,
   "id": "71cc8a0b-e505-46a7-93be-57209841133c",
   "metadata": {
    "execution": {
     "iopub.execute_input": "2023-11-17T20:52:52.798446Z",
     "iopub.status.busy": "2023-11-17T20:52:52.797864Z",
     "iopub.status.idle": "2023-11-17T20:52:52.983583Z",
     "shell.execute_reply": "2023-11-17T20:52:52.982768Z",
     "shell.execute_reply.started": "2023-11-17T20:52:52.798417Z"
    },
    "tags": []
   },
   "outputs": [
    {
     "name": "stdout",
     "output_type": "stream",
     "text": [
      "CPU times: user 182 ms, sys: 952 µs, total: 183 ms\n",
      "Wall time: 181 ms\n"
     ]
    }
   ],
   "source": [
    "%%time\n",
    "indexes = get_indexes_top_k_with_numpy(insert_features, query_feature, k=3)"
   ]
  },
  {
   "cell_type": "markdown",
   "id": "36c37a51-13e4-47a7-9718-b2775d4b0612",
   "metadata": {},
   "source": [
    "#### データ数97万"
   ]
  },
  {
   "cell_type": "code",
   "execution_count": 16,
   "id": "cfb9ebe8-5b81-4a5e-9888-3771bdc97bd3",
   "metadata": {
    "execution": {
     "iopub.execute_input": "2023-11-17T20:52:55.789336Z",
     "iopub.status.busy": "2023-11-17T20:52:55.788681Z",
     "iopub.status.idle": "2023-11-17T20:52:57.151587Z",
     "shell.execute_reply": "2023-11-17T20:52:57.150705Z",
     "shell.execute_reply.started": "2023-11-17T20:52:55.789303Z"
    },
    "tags": []
   },
   "outputs": [],
   "source": [
    "insert_features = get_insert_features(df)"
   ]
  },
  {
   "cell_type": "code",
   "execution_count": 17,
   "id": "1c25de20-5c13-4319-a08e-c7dbad616127",
   "metadata": {
    "execution": {
     "iopub.execute_input": "2023-11-17T20:52:57.153163Z",
     "iopub.status.busy": "2023-11-17T20:52:57.152824Z",
     "iopub.status.idle": "2023-11-17T20:52:59.512828Z",
     "shell.execute_reply": "2023-11-17T20:52:59.511999Z",
     "shell.execute_reply.started": "2023-11-17T20:52:57.153141Z"
    },
    "tags": []
   },
   "outputs": [
    {
     "name": "stdout",
     "output_type": "stream",
     "text": [
      "CPU times: user 1.38 s, sys: 973 ms, total: 2.36 s\n",
      "Wall time: 2.36 s\n"
     ]
    }
   ],
   "source": [
    "%%time\n",
    "indexes = get_indexes_top_k_with_numpy(insert_features, query_feature, k=3)"
   ]
  },
  {
   "cell_type": "markdown",
   "id": "0526c722-223d-4c16-a19d-6bce8b38bb6d",
   "metadata": {
    "tags": []
   },
   "source": [
    "### ベクトル検索エンジンValdを使った場合\n",
    "この環境では外部通信を行なっているためネットワークによる遅延が入っています。1番最初の通信はコネクション確立に時間がかかるため、実際使われる時の状況に近い2回目の速度を測っています。"
   ]
  },
  {
   "cell_type": "code",
   "execution_count": 14,
   "id": "2cd8b831-f636-41c4-9c0d-c01feb0b9e02",
   "metadata": {
    "execution": {
     "iopub.execute_input": "2023-11-17T18:07:13.933269Z",
     "iopub.status.busy": "2023-11-17T18:07:13.932658Z",
     "iopub.status.idle": "2023-11-17T18:07:14.447020Z",
     "shell.execute_reply": "2023-11-17T18:07:14.446235Z",
     "shell.execute_reply.started": "2023-11-17T18:07:13.933241Z"
    },
    "tags": []
   },
   "outputs": [],
   "source": [
    "import grpc\n",
    "from vald.v1.payload import payload_pb2\n",
    "from vald.v1.vald import search_pb2_grpc, upsert_pb2_grpc"
   ]
  },
  {
   "cell_type": "code",
   "execution_count": 15,
   "id": "187dbc49-62fe-4eca-8f23-c2086cadeb11",
   "metadata": {
    "execution": {
     "iopub.execute_input": "2023-11-17T18:07:14.448068Z",
     "iopub.status.busy": "2023-11-17T18:07:14.447861Z",
     "iopub.status.idle": "2023-11-17T18:07:14.451574Z",
     "shell.execute_reply": "2023-11-17T18:07:14.450956Z",
     "shell.execute_reply.started": "2023-11-17T18:07:14.448044Z"
    },
    "tags": []
   },
   "outputs": [],
   "source": [
    "## 接続先Host名(Host:Port)\n",
    "host = \"your-vald-host:80\"\n",
    "\n",
    "## 次元数\n",
    "dimension = 768"
   ]
  },
  {
   "cell_type": "code",
   "execution_count": 16,
   "id": "fbe23609-597e-4f28-a39d-802469bdc7b2",
   "metadata": {
    "execution": {
     "iopub.execute_input": "2023-11-17T18:07:14.452814Z",
     "iopub.status.busy": "2023-11-17T18:07:14.452349Z",
     "iopub.status.idle": "2023-11-17T18:07:14.482540Z",
     "shell.execute_reply": "2023-11-17T18:07:14.481743Z",
     "shell.execute_reply.started": "2023-11-17T18:07:14.452788Z"
    },
    "tags": []
   },
   "outputs": [],
   "source": [
    "channel = grpc.insecure_channel(host)"
   ]
  },
  {
   "cell_type": "code",
   "execution_count": 17,
   "id": "568f771c-eaf0-4942-99db-d1efae055296",
   "metadata": {
    "execution": {
     "iopub.execute_input": "2023-11-17T18:07:14.483956Z",
     "iopub.status.busy": "2023-11-17T18:07:14.483437Z",
     "iopub.status.idle": "2023-11-17T18:07:14.526843Z",
     "shell.execute_reply": "2023-11-17T18:07:14.526176Z",
     "shell.execute_reply.started": "2023-11-17T18:07:14.483932Z"
    },
    "tags": []
   },
   "outputs": [],
   "source": [
    "usstub = upsert_pb2_grpc.UpsertStub(channel)\n",
    "sstub = search_pb2_grpc.SearchStub(channel)"
   ]
  },
  {
   "cell_type": "code",
   "execution_count": 18,
   "id": "d9dce9df-3a6a-4889-965d-4a02d55c5217",
   "metadata": {
    "execution": {
     "iopub.execute_input": "2023-11-17T18:07:14.527885Z",
     "iopub.status.busy": "2023-11-17T18:07:14.527692Z",
     "iopub.status.idle": "2023-11-17T18:07:14.610138Z",
     "shell.execute_reply": "2023-11-17T18:07:14.609515Z",
     "shell.execute_reply.started": "2023-11-17T18:07:14.527862Z"
    },
    "tags": []
   },
   "outputs": [],
   "source": [
    "from tqdm.notebook import tqdm\n",
    "\n",
    "uscfg = payload_pb2.Upsert.Config(skip_strict_exist_check=True)\n",
    "\n",
    "\n",
    "def multi_upsert(df, chunk_size=200):\n",
    "    for i in tqdm(range(0, len(df), chunk_size)):\n",
    "        requests = [\n",
    "            payload_pb2.Upsert.Request(\n",
    "                vector=payload_pb2.Object.Vector(\n",
    "                    id=str(row.Index), vector=row.text_embedding\n",
    "                ),\n",
    "                config=uscfg,\n",
    "            )\n",
    "            for row in df[i : i + chunk_size].itertuples()\n",
    "        ]\n",
    "        usstub.MultiUpsert(payload_pb2.Upsert.MultiRequest(requests=requests))"
   ]
  },
  {
   "cell_type": "code",
   "execution_count": 19,
   "id": "ed4f1ba6-5650-4627-a72f-c7b127363e4d",
   "metadata": {
    "execution": {
     "iopub.execute_input": "2023-11-17T18:07:14.611031Z",
     "iopub.status.busy": "2023-11-17T18:07:14.610838Z",
     "iopub.status.idle": "2023-11-17T18:07:14.633239Z",
     "shell.execute_reply": "2023-11-17T18:07:14.632671Z",
     "shell.execute_reply.started": "2023-11-17T18:07:14.611007Z"
    },
    "tags": []
   },
   "outputs": [],
   "source": [
    "def get_indexes_top_k(vec, k):\n",
    "    scfg = payload_pb2.Search.Config(\n",
    "        num=k, radius=-1.0, epsilon=0.01, timeout=3000000000\n",
    "    )\n",
    "    response = sstub.Search(payload_pb2.Search.Request(vector=vec, config=scfg))\n",
    "    return [int(result.id) for result in response.results]"
   ]
  },
  {
   "cell_type": "code",
   "execution_count": null,
   "id": "fd79e88b-388b-4da0-8333-b619c30ce2cb",
   "metadata": {
    "tags": []
   },
   "outputs": [],
   "source": [
    "# 最初の通信用\n",
    "text = \"テスト用のクエリです\"\n",
    "query_feature = get_embedding(text=text, model=model)\n",
    "multi_upsert(df[:10])"
   ]
  },
  {
   "cell_type": "code",
   "execution_count": 32,
   "id": "1f57e1e7-a88a-4cd3-aac5-20b12d86839b",
   "metadata": {
    "execution": {
     "iopub.execute_input": "2023-11-17T20:28:25.902833Z",
     "iopub.status.busy": "2023-11-17T20:28:25.901960Z",
     "iopub.status.idle": "2023-11-17T20:28:26.009913Z",
     "shell.execute_reply": "2023-11-17T20:28:26.009131Z",
     "shell.execute_reply.started": "2023-11-17T20:28:25.902805Z"
    },
    "tags": []
   },
   "outputs": [],
   "source": [
    "indexes = get_indexes_top_k(query_feature, k=3)"
   ]
  },
  {
   "cell_type": "markdown",
   "id": "78328ef4-9359-44c7-a6e9-db4b08c31a27",
   "metadata": {},
   "source": [
    "#### データ数1万"
   ]
  },
  {
   "cell_type": "code",
   "execution_count": null,
   "id": "d9e7a860-7874-4d9a-b452-68b3ad8a8c3c",
   "metadata": {
    "tags": []
   },
   "outputs": [],
   "source": [
    "multi_upsert(df[:10000])"
   ]
  },
  {
   "cell_type": "code",
   "execution_count": 33,
   "id": "842b2a67-399d-4bee-be39-0079aa3ca466",
   "metadata": {
    "execution": {
     "iopub.execute_input": "2023-11-17T20:28:28.015224Z",
     "iopub.status.busy": "2023-11-17T20:28:28.014607Z",
     "iopub.status.idle": "2023-11-17T20:28:28.065110Z",
     "shell.execute_reply": "2023-11-17T20:28:28.063963Z",
     "shell.execute_reply.started": "2023-11-17T20:28:28.015196Z"
    },
    "tags": []
   },
   "outputs": [],
   "source": [
    "text = \"野原ひろしの住んでいる地域はどこですか\"\n",
    "query_feature = get_embedding(text=text, model=model)"
   ]
  },
  {
   "cell_type": "code",
   "execution_count": 42,
   "id": "2e3f1a51-ec86-489d-a132-823393e57049",
   "metadata": {
    "execution": {
     "iopub.execute_input": "2023-11-17T06:48:01.348529Z",
     "iopub.status.busy": "2023-11-17T06:48:01.347700Z",
     "iopub.status.idle": "2023-11-17T06:48:01.460006Z",
     "shell.execute_reply": "2023-11-17T06:48:01.459314Z",
     "shell.execute_reply.started": "2023-11-17T06:48:01.348501Z"
    },
    "tags": []
   },
   "outputs": [
    {
     "name": "stdout",
     "output_type": "stream",
     "text": [
      "CPU times: user 0 ns, sys: 2.81 ms, total: 2.81 ms\n",
      "Wall time: 108 ms\n"
     ]
    }
   ],
   "source": [
    "%%time\n",
    "indexes = get_indexes_top_k(query_feature, k=3)"
   ]
  },
  {
   "cell_type": "markdown",
   "id": "22e98719-b61d-4c98-b82e-6024570d7d5c",
   "metadata": {},
   "source": [
    "#### データ数10万"
   ]
  },
  {
   "cell_type": "code",
   "execution_count": null,
   "id": "0d0bfef7-23fe-4241-9dee-8a4fb459cdd4",
   "metadata": {
    "tags": []
   },
   "outputs": [],
   "source": [
    "multi_upsert(df[10000:100000])"
   ]
  },
  {
   "cell_type": "code",
   "execution_count": 59,
   "id": "5ae813ec-b21b-49b9-a166-9be440884527",
   "metadata": {
    "execution": {
     "iopub.execute_input": "2023-11-17T07:04:37.738193Z",
     "iopub.status.busy": "2023-11-17T07:04:37.737333Z",
     "iopub.status.idle": "2023-11-17T07:04:37.846481Z",
     "shell.execute_reply": "2023-11-17T07:04:37.845838Z",
     "shell.execute_reply.started": "2023-11-17T07:04:37.738167Z"
    },
    "tags": []
   },
   "outputs": [
    {
     "name": "stdout",
     "output_type": "stream",
     "text": [
      "CPU times: user 2.27 ms, sys: 10 µs, total: 2.28 ms\n",
      "Wall time: 105 ms\n"
     ]
    }
   ],
   "source": [
    "%%time\n",
    "indexes = get_indexes_top_k(query_feature, k=3)"
   ]
  },
  {
   "cell_type": "markdown",
   "id": "7486f710-d99b-4182-bcb1-74acf6bcf8b1",
   "metadata": {},
   "source": [
    "#### データ数97万"
   ]
  },
  {
   "cell_type": "code",
   "execution_count": null,
   "id": "e56697ea-9c59-4a22-9c38-1761d51fbc49",
   "metadata": {
    "tags": []
   },
   "outputs": [],
   "source": [
    "multi_upsert(df[100000:])"
   ]
  },
  {
   "cell_type": "code",
   "execution_count": 34,
   "id": "b109f90c-9fbf-4cfc-bf46-b9ae28acafd5",
   "metadata": {
    "execution": {
     "iopub.execute_input": "2023-11-17T20:28:31.874360Z",
     "iopub.status.busy": "2023-11-17T20:28:31.873893Z",
     "iopub.status.idle": "2023-11-17T20:28:31.982444Z",
     "shell.execute_reply": "2023-11-17T20:28:31.981731Z",
     "shell.execute_reply.started": "2023-11-17T20:28:31.874333Z"
    },
    "tags": []
   },
   "outputs": [
    {
     "name": "stdout",
     "output_type": "stream",
     "text": [
      "CPU times: user 2.94 ms, sys: 43 µs, total: 2.98 ms\n",
      "Wall time: 104 ms\n"
     ]
    }
   ],
   "source": [
    "%%time\n",
    "indexes = get_indexes_top_k(query_feature, k=3)"
   ]
  },
  {
   "cell_type": "markdown",
   "id": "89f81471-7936-437a-84f2-d4dece97c626",
   "metadata": {
    "execution": {
     "iopub.execute_input": "2023-11-15T07:27:38.306605Z",
     "iopub.status.busy": "2023-11-15T07:27:38.305895Z",
     "iopub.status.idle": "2023-11-15T07:27:38.310795Z",
     "shell.execute_reply": "2023-11-15T07:27:38.309946Z",
     "shell.execute_reply.started": "2023-11-15T07:27:38.306580Z"
    },
    "tags": []
   },
   "source": [
    "検索速度はベクトルの分布や設定にも依存しますが、社内で運用している環境ではデータ数が1000万件以上でもsearchの99%ile値は200ms以下となっています。"
   ]
  },
  {
   "cell_type": "markdown",
   "id": "66a598c8-287f-4295-b04c-0cfd0dd942e4",
   "metadata": {},
   "source": [
    "## 謝辞\n",
    "データセットに用いたwikitextは以下ライセンスに基づき改変せず使用させていただきました。\n",
    "\n",
    "https://creativecommons.org/licenses/by-sa/4.0/deed.ja\n",
    "\n",
    "データを公開いただきましたWikipedia様とデータセットを作成いただいたStephen Merity、Caiming Xiong、James Bradbury、Richard Socher様に感謝を申し上げます。"
   ]
  }
 ],
 "metadata": {
  "kernelspec": {
   "display_name": "Python 3 (ipykernel)",
   "language": "python",
   "name": "python3"
  },
  "language_info": {
   "codemirror_mode": {
    "name": "ipython",
    "version": 3
   },
   "file_extension": ".py",
   "mimetype": "text/x-python",
   "name": "python",
   "nbconvert_exporter": "python",
   "pygments_lexer": "ipython3",
   "version": "3.10.13"
  }
 },
 "nbformat": 4,
 "nbformat_minor": 5
}
